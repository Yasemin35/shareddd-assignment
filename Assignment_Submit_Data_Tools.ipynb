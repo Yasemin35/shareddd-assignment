{
 "cells": [
  {
   "cell_type": "markdown",
   "id": "5d2ad59d",
   "metadata": {},
   "source": [
    "Create a markdown cell for an introduction\n",
    "Here, Data Science Tools are introduced"
   ]
  },
  {
   "cell_type": "markdown",
   "id": "efda119f",
   "metadata": {},
   "source": [
    "Here, Data Science Tools are introduced."
   ]
  },
  {
   "cell_type": "code",
   "execution_count": 1,
   "id": "632ac124",
   "metadata": {},
   "outputs": [
    {
     "ename": "SyntaxError",
     "evalue": "invalid syntax (4006308137.py, line 1)",
     "output_type": "error",
     "traceback": [
      "\u001b[1;36m  File \u001b[1;32m\"C:\\Users\\x\\AppData\\Local\\Temp\\ipykernel_13084\\4006308137.py\"\u001b[1;36m, line \u001b[1;32m1\u001b[0m\n\u001b[1;33m    Popular languages that Data Scientists generally use are:\u001b[0m\n\u001b[1;37m            ^\u001b[0m\n\u001b[1;31mSyntaxError\u001b[0m\u001b[1;31m:\u001b[0m invalid syntax\n"
     ]
    }
   ],
   "source": [
    "Popular languages that Data Scientists generally use are:\n",
    "Python.\n",
    "R.\n",
    "SQL.\n",
    "JavaScript.\n",
    "Java.\n",
    "C/C++.\n",
    "Julia.\n",
    "Scala."
   ]
  },
  {
   "cell_type": "markdown",
   "id": "62a07bfc",
   "metadata": {},
   "source": [
    "Among the libraries that data scientists frequently utilize are the following:\n",
    "TensorFlow.\n",
    "NumPy.\n",
    "SciPy.\n",
    "Pandas.\n",
    "Matplotlib.\n",
    "Keras.\n",
    "SciKit-Learn.\n",
    "PyTorch.\n",
    "Scrapy.\n",
    "BeautifulSoup.\n",
    "LightGBM.\n",
    "Theano.\n",
    "NuPIC.\n",
    "Ramp.\n",
    "Pipenv.\n",
    "Bob.\n",
    "PyBrain.\n",
    "Chainer."
   ]
  },
  {
   "cell_type": "markdown",
   "id": "4170909d",
   "metadata": {},
   "source": [
    "NumPy.\n",
    "TensorFlow.\n",
    "SciPy.\n",
    "Pandas.\n",
    "Matplotlib.\n",
    "Keras.\n",
    "SciKit-Learn.\n",
    "PyTorch.\n",
    "Scrapy.\n",
    "BeautifulSoup.\n",
    "LightGBM.\n",
    "ELI5.\n",
    "Theano.\n",
    "NuPIC.\n",
    "Ramp.\n",
    "Pipenv.\n",
    "Bob.\n",
    "PyBrain.\n",
    "Chainer"
   ]
  },
  {
   "cell_type": "markdown",
   "id": "54359b91",
   "metadata": {},
   "source": [
    "Data Science Tools\t\t\n",
    "SAS. It is one of those data science tools which are specifically designed for statistical operation\t\t\n",
    "Apache Spark\t\t\n",
    "BigML\n"
   ]
  },
  {
   "cell_type": "markdown",
   "id": "ce50ce6a",
   "metadata": {},
   "source": [
    "Data Science Tools\n",
    "SAS. \n",
    "Apache Spark\n",
    "BigML"
   ]
  },
  {
   "cell_type": "markdown",
   "id": "f654bb95",
   "metadata": {},
   "source": [
    "# Arithmetic operations\n",
    "code = compile(\"2 + 2\", \"<string>\", \"eval\")\n",
    "eval(code)"
   ]
  },
  {
   "cell_type": "markdown",
   "id": "e4d2368d",
   "metadata": {},
   "source": [
    "# Arithmetic operations\n",
    "result = compile(\"5 + 4\", \"<string>\", \"eval\")\n",
    "eval(result)\n",
    "    "
   ]
  },
  {
   "cell_type": "code",
   "execution_count": 2,
   "id": "157f5fe2",
   "metadata": {},
   "outputs": [],
   "source": [
    "import numpy as np\n"
   ]
  },
  {
   "cell_type": "code",
   "execution_count": 3,
   "id": "df925976",
   "metadata": {},
   "outputs": [
    {
     "data": {
      "text/plain": [
       "9"
      ]
     },
     "execution_count": 3,
     "metadata": {},
     "output_type": "execute_result"
    }
   ],
   "source": [
    "# Arithmetic operations\n",
    "result = compile(\"5 + 4\", \"<string>\", \"eval\")\n",
    "eval(result)"
   ]
  },
  {
   "cell_type": "code",
   "execution_count": 4,
   "id": "a49fa0d6",
   "metadata": {},
   "outputs": [
    {
     "data": {
      "text/plain": [
       "7"
      ]
     },
     "execution_count": 4,
     "metadata": {},
     "output_type": "execute_result"
    }
   ],
   "source": [
    "# Arithmetic operations\n",
    "result1 = compile(\"9 - 2\", \"<string>\", \"eval\")\n",
    "eval(result1)"
   ]
  },
  {
   "cell_type": "markdown",
   "id": "ea8204a5",
   "metadata": {},
   "source": [
    "(2*8)+5"
   ]
  },
  {
   "cell_type": "code",
   "execution_count": 5,
   "id": "89674c63",
   "metadata": {},
   "outputs": [
    {
     "data": {
      "text/plain": [
       "21"
      ]
     },
     "execution_count": 5,
     "metadata": {},
     "output_type": "execute_result"
    }
   ],
   "source": [
    "(2*8)+5"
   ]
  },
  {
   "cell_type": "code",
   "execution_count": 7,
   "id": "b6119cfb",
   "metadata": {},
   "outputs": [
    {
     "name": "stdout",
     "output_type": "stream",
     "text": [
      "0 days, 0 hours, 0 mins. \n"
     ]
    }
   ],
   "source": [
    "init_days = 0\n",
    "init_hours = 0\n",
    "init_mins = 0\n",
    "\n",
    "time = 180\n",
    "#days = time / 1440\n",
    "leftover_minutes = time % 1440\n",
    "hours = leftover_minutes / 60\n",
    "#mins = time - (days*1440) - (hours*60)\n",
    "print(str(init_days) + \" days, \" + str(init_hours) + \" hours, \" + str(init_mins) +  \" mins. \")"
   ]
  },
  {
   "cell_type": "code",
   "execution_count": 9,
   "id": "137e8a18",
   "metadata": {},
   "outputs": [
    {
     "name": "stdout",
     "output_type": "stream",
     "text": [
      "0 days, 3.0 hours, 0 mins. \n"
     ]
    }
   ],
   "source": [
    "days = 0\n",
    "hours = 0\n",
    "mins = 0\n",
    "\n",
    "time = 180\n",
    "#days = time / 1440\n",
    "leftover_minutes = time % 1440\n",
    "hours = leftover_minutes / 60\n",
    "#mins = time - (days*1440) - (hours*60)\n",
    "print(str(days) + \" days, \" + str(hours) + \" hours, \" + str(mins) +  \" mins. \")"
   ]
  },
  {
   "cell_type": "markdown",
   "id": "fe48af38",
   "metadata": {},
   "source": [
    "Below the introduction cell created in Exercise 3, insert a new markdown cell to list the objectives that this notebook covered (i.e. some of the key takeaways from the course). In this new cell start with an introductory line titled: Objectives: in bold font. Then using an unordered list (bullets) indicate 3 to 5 items covered in this notebook, such as List popular languages for Data Science."
   ]
  },
  {
   "cell_type": "markdown",
   "id": "8fb72d12",
   "metadata": {},
   "source": [
    "Below the introduction cell created in Exercise 3, insert a new markdown cell to list the objectives that this notebook covered. In this created cell start with an introductory line titled: Assignment_Submit_Data_Tools."
   ]
  },
  {
   "cell_type": "markdown",
   "id": "8f242eb3",
   "metadata": {},
   "source": [
    "Yasemin"
   ]
  },
  {
   "cell_type": "code",
   "execution_count": null,
   "id": "bc107a1c",
   "metadata": {},
   "outputs": [],
   "source": []
  }
 ],
 "metadata": {
  "kernelspec": {
   "display_name": "Python 3 (ipykernel)",
   "language": "python",
   "name": "python3"
  },
  "language_info": {
   "codemirror_mode": {
    "name": "ipython",
    "version": 3
   },
   "file_extension": ".py",
   "mimetype": "text/x-python",
   "name": "python",
   "nbconvert_exporter": "python",
   "pygments_lexer": "ipython3",
   "version": "3.9.13"
  }
 },
 "nbformat": 4,
 "nbformat_minor": 5
}
